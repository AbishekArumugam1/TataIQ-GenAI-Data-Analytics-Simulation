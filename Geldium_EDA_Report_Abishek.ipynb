{
  "nbformat": 4,
  "nbformat_minor": 0,
  "metadata": {
    "colab": {
      "provenance": [],
      "mount_file_id": "1H0FN-NWAVoziyhxAbLEYzu5Mr0fRoPSX",
      "authorship_tag": "ABX9TyNV2WEYXYzjvyLj8rg0uNHc",
      "include_colab_link": true
    },
    "kernelspec": {
      "name": "python3",
      "display_name": "Python 3"
    },
    "language_info": {
      "name": "python"
    }
  },
  "cells": [
    {
      "cell_type": "markdown",
      "metadata": {
        "id": "view-in-github",
        "colab_type": "text"
      },
      "source": [
        "<a href=\"https://colab.research.google.com/github/AbishekArumugam1/TataIQ-GenAI-Data-Analytics-Simulation/blob/main/Geldium_EDA_Report_Abishek.ipynb\" target=\"_parent\"><img src=\"https://colab.research.google.com/assets/colab-badge.svg\" alt=\"Open In Colab\"/></a>"
      ]
    },
    {
      "cell_type": "markdown",
      "source": [
        "# Geldium EDA Report\n",
        "Course: Gen AI Powered Data Analytics — Tata iQ  \n",
        "Author: Abishek Arumugam S\n",
        "\n",
        "**Objective:** Explore and clean the dataset so it's ready for modeling.\n"
      ],
      "metadata": {
        "id": "1enytBCygjRr"
      }
    },
    {
      "cell_type": "code",
      "source": [
        "# Step 0: Load libraries we will use\n",
        "import pandas as pd        # read and manipulate tables\n",
        "import numpy as np         # math helpers\n",
        "import matplotlib.pyplot as plt   # plots\n",
        "import seaborn as sns             # nicer plots\n",
        "\n",
        "# Make plots a good size\n",
        "plt.rcParams['figure.figsize'] = (10,5)\n",
        "\n",
        "print(\"Ready! pandas version:\", pd.__version__)\n"
      ],
      "metadata": {
        "colab": {
          "base_uri": "https://localhost:8080/"
        },
        "id": "9-JOJgKZgrrd",
        "outputId": "9690b78e-0507-4329-fb16-5a0d0dd09d1a"
      },
      "execution_count": 1,
      "outputs": [
        {
          "output_type": "stream",
          "name": "stdout",
          "text": [
            "Ready! pandas version: 2.2.2\n"
          ]
        }
      ]
    },
    {
      "cell_type": "code",
      "source": [
        "from google.colab import files\n",
        "uploaded = files.upload()\n"
      ],
      "metadata": {
        "colab": {
          "base_uri": "https://localhost:8080/",
          "height": 38
        },
        "id": "ipP0lw3Cj-1X",
        "outputId": "9804dd56-9a27-49ab-a61e-398a69ea0af7"
      },
      "execution_count": null,
      "outputs": [
        {
          "data": {
            "text/html": [
              "\n",
              "     <input type=\"file\" id=\"files-3955bba3-3c5a-4f4c-b6ea-e1a4eb6f13db\" name=\"files[]\" multiple disabled\n",
              "        style=\"border:none\" />\n",
              "     <output id=\"result-3955bba3-3c5a-4f4c-b6ea-e1a4eb6f13db\">\n",
              "      Upload widget is only available when the cell has been executed in the\n",
              "      current browser session. Please rerun this cell to enable.\n",
              "      </output>\n",
              "      <script>// Copyright 2017 Google LLC\n",
              "//\n",
              "// Licensed under the Apache License, Version 2.0 (the \"License\");\n",
              "// you may not use this file except in compliance with the License.\n",
              "// You may obtain a copy of the License at\n",
              "//\n",
              "//      http://www.apache.org/licenses/LICENSE-2.0\n",
              "//\n",
              "// Unless required by applicable law or agreed to in writing, software\n",
              "// distributed under the License is distributed on an \"AS IS\" BASIS,\n",
              "// WITHOUT WARRANTIES OR CONDITIONS OF ANY KIND, either express or implied.\n",
              "// See the License for the specific language governing permissions and\n",
              "// limitations under the License.\n",
              "\n",
              "/**\n",
              " * @fileoverview Helpers for google.colab Python module.\n",
              " */\n",
              "(function(scope) {\n",
              "function span(text, styleAttributes = {}) {\n",
              "  const element = document.createElement('span');\n",
              "  element.textContent = text;\n",
              "  for (const key of Object.keys(styleAttributes)) {\n",
              "    element.style[key] = styleAttributes[key];\n",
              "  }\n",
              "  return element;\n",
              "}\n",
              "\n",
              "// Max number of bytes which will be uploaded at a time.\n",
              "const MAX_PAYLOAD_SIZE = 100 * 1024;\n",
              "\n",
              "function _uploadFiles(inputId, outputId) {\n",
              "  const steps = uploadFilesStep(inputId, outputId);\n",
              "  const outputElement = document.getElementById(outputId);\n",
              "  // Cache steps on the outputElement to make it available for the next call\n",
              "  // to uploadFilesContinue from Python.\n",
              "  outputElement.steps = steps;\n",
              "\n",
              "  return _uploadFilesContinue(outputId);\n",
              "}\n",
              "\n",
              "// This is roughly an async generator (not supported in the browser yet),\n",
              "// where there are multiple asynchronous steps and the Python side is going\n",
              "// to poll for completion of each step.\n",
              "// This uses a Promise to block the python side on completion of each step,\n",
              "// then passes the result of the previous step as the input to the next step.\n",
              "function _uploadFilesContinue(outputId) {\n",
              "  const outputElement = document.getElementById(outputId);\n",
              "  const steps = outputElement.steps;\n",
              "\n",
              "  const next = steps.next(outputElement.lastPromiseValue);\n",
              "  return Promise.resolve(next.value.promise).then((value) => {\n",
              "    // Cache the last promise value to make it available to the next\n",
              "    // step of the generator.\n",
              "    outputElement.lastPromiseValue = value;\n",
              "    return next.value.response;\n",
              "  });\n",
              "}\n",
              "\n",
              "/**\n",
              " * Generator function which is called between each async step of the upload\n",
              " * process.\n",
              " * @param {string} inputId Element ID of the input file picker element.\n",
              " * @param {string} outputId Element ID of the output display.\n",
              " * @return {!Iterable<!Object>} Iterable of next steps.\n",
              " */\n",
              "function* uploadFilesStep(inputId, outputId) {\n",
              "  const inputElement = document.getElementById(inputId);\n",
              "  inputElement.disabled = false;\n",
              "\n",
              "  const outputElement = document.getElementById(outputId);\n",
              "  outputElement.innerHTML = '';\n",
              "\n",
              "  const pickedPromise = new Promise((resolve) => {\n",
              "    inputElement.addEventListener('change', (e) => {\n",
              "      resolve(e.target.files);\n",
              "    });\n",
              "  });\n",
              "\n",
              "  const cancel = document.createElement('button');\n",
              "  inputElement.parentElement.appendChild(cancel);\n",
              "  cancel.textContent = 'Cancel upload';\n",
              "  const cancelPromise = new Promise((resolve) => {\n",
              "    cancel.onclick = () => {\n",
              "      resolve(null);\n",
              "    };\n",
              "  });\n",
              "\n",
              "  // Wait for the user to pick the files.\n",
              "  const files = yield {\n",
              "    promise: Promise.race([pickedPromise, cancelPromise]),\n",
              "    response: {\n",
              "      action: 'starting',\n",
              "    }\n",
              "  };\n",
              "\n",
              "  cancel.remove();\n",
              "\n",
              "  // Disable the input element since further picks are not allowed.\n",
              "  inputElement.disabled = true;\n",
              "\n",
              "  if (!files) {\n",
              "    return {\n",
              "      response: {\n",
              "        action: 'complete',\n",
              "      }\n",
              "    };\n",
              "  }\n",
              "\n",
              "  for (const file of files) {\n",
              "    const li = document.createElement('li');\n",
              "    li.append(span(file.name, {fontWeight: 'bold'}));\n",
              "    li.append(span(\n",
              "        `(${file.type || 'n/a'}) - ${file.size} bytes, ` +\n",
              "        `last modified: ${\n",
              "            file.lastModifiedDate ? file.lastModifiedDate.toLocaleDateString() :\n",
              "                                    'n/a'} - `));\n",
              "    const percent = span('0% done');\n",
              "    li.appendChild(percent);\n",
              "\n",
              "    outputElement.appendChild(li);\n",
              "\n",
              "    const fileDataPromise = new Promise((resolve) => {\n",
              "      const reader = new FileReader();\n",
              "      reader.onload = (e) => {\n",
              "        resolve(e.target.result);\n",
              "      };\n",
              "      reader.readAsArrayBuffer(file);\n",
              "    });\n",
              "    // Wait for the data to be ready.\n",
              "    let fileData = yield {\n",
              "      promise: fileDataPromise,\n",
              "      response: {\n",
              "        action: 'continue',\n",
              "      }\n",
              "    };\n",
              "\n",
              "    // Use a chunked sending to avoid message size limits. See b/62115660.\n",
              "    let position = 0;\n",
              "    do {\n",
              "      const length = Math.min(fileData.byteLength - position, MAX_PAYLOAD_SIZE);\n",
              "      const chunk = new Uint8Array(fileData, position, length);\n",
              "      position += length;\n",
              "\n",
              "      const base64 = btoa(String.fromCharCode.apply(null, chunk));\n",
              "      yield {\n",
              "        response: {\n",
              "          action: 'append',\n",
              "          file: file.name,\n",
              "          data: base64,\n",
              "        },\n",
              "      };\n",
              "\n",
              "      let percentDone = fileData.byteLength === 0 ?\n",
              "          100 :\n",
              "          Math.round((position / fileData.byteLength) * 100);\n",
              "      percent.textContent = `${percentDone}% done`;\n",
              "\n",
              "    } while (position < fileData.byteLength);\n",
              "  }\n",
              "\n",
              "  // All done.\n",
              "  yield {\n",
              "    response: {\n",
              "      action: 'complete',\n",
              "    }\n",
              "  };\n",
              "}\n",
              "\n",
              "scope.google = scope.google || {};\n",
              "scope.google.colab = scope.google.colab || {};\n",
              "scope.google.colab._files = {\n",
              "  _uploadFiles,\n",
              "  _uploadFilesContinue,\n",
              "};\n",
              "})(self);\n",
              "</script> "
            ],
            "text/plain": [
              "<IPython.core.display.HTML object>"
            ]
          },
          "metadata": {},
          "output_type": "display_data"
        }
      ]
    },
    {
      "cell_type": "code",
      "source": [
        "import pandas as pd\n",
        "\n",
        "filename = list(uploaded.keys())[0]\n",
        "print(\"Loaded file:\", filename)\n",
        "\n",
        "# Read Excel file\n",
        "df = pd.read_excel(filename)\n",
        "\n",
        "# Display the first few rows\n",
        "df.head()\n"
      ],
      "metadata": {
        "id": "M52Sv5w6lvDV"
      },
      "execution_count": null,
      "outputs": []
    },
    {
      "cell_type": "code",
      "source": [
        "import pandas as pd\n",
        "\n",
        "filename = list(uploaded.keys())[0]\n",
        "excel_file = pd.ExcelFile(filename)\n",
        "\n",
        "print(\"Available sheets:\")\n",
        "print(excel_file.sheet_names)\n"
      ],
      "metadata": {
        "id": "lQMKNhmJl34I"
      },
      "execution_count": null,
      "outputs": []
    },
    {
      "cell_type": "code",
      "source": [
        "from google.colab import files\n",
        "uploaded = files.upload()\n"
      ],
      "metadata": {
        "id": "LsIAxkJxmLBH"
      },
      "execution_count": null,
      "outputs": []
    },
    {
      "cell_type": "code",
      "source": [
        "import pandas as pd\n",
        "filename = list(uploaded.keys())[0]\n",
        "df = pd.read_csv(filename, encoding_errors='ignore')\n",
        "df.head()\n"
      ],
      "metadata": {
        "id": "OZl0DRlEnuMW"
      },
      "execution_count": null,
      "outputs": []
    },
    {
      "cell_type": "code",
      "source": [
        "print(\"Number of rows:\", df.shape[0])\n",
        "print(\"Number of columns:\", df.shape[1])\n"
      ],
      "metadata": {
        "id": "Nd5o8T-xnvUl"
      },
      "execution_count": null,
      "outputs": []
    },
    {
      "cell_type": "code",
      "source": [
        "df.info()   # shows columns, non-null counts, and data types\n"
      ],
      "metadata": {
        "id": "jDMXbrRKn8he"
      },
      "execution_count": null,
      "outputs": []
    },
    {
      "cell_type": "code",
      "source": [
        "df.describe().T   # mean, std, min, max, quartiles for numeric columns\n"
      ],
      "metadata": {
        "id": "coG7cHm9oAgi"
      },
      "execution_count": null,
      "outputs": []
    },
    {
      "cell_type": "code",
      "source": [
        "missing_count = df.isnull().sum()\n",
        "missing_pct = (df.isnull().mean() * 100).round(2)\n",
        "pd.concat([missing_count, missing_pct], axis=1, keys=['missing_count','missing_pct']).sort_values('missing_count', ascending=False)\n"
      ],
      "metadata": {
        "id": "DATtXnaGoG-1"
      },
      "execution_count": null,
      "outputs": []
    },
    {
      "cell_type": "code",
      "source": [
        "dups = df.duplicated().sum()\n",
        "print(\"Duplicate rows found:\", dups)\n"
      ],
      "metadata": {
        "id": "kvUBv6kcoMXv"
      },
      "execution_count": null,
      "outputs": []
    },
    {
      "cell_type": "code",
      "source": [
        "df.head(10)\n"
      ],
      "metadata": {
        "id": "3dPhMLiSoSMp"
      },
      "execution_count": null,
      "outputs": []
    },
    {
      "cell_type": "code",
      "source": [
        "import numpy as np\n"
      ],
      "metadata": {
        "id": "8gg9_OF0o2R3"
      },
      "execution_count": null,
      "outputs": []
    },
    {
      "cell_type": "code",
      "source": [
        "# Replace common missing markers with actual NaN\n",
        "df.replace(['?', 'NA', 'N/A', 'na', 'nil', 'None', '--', ''], np.nan, inplace=True)\n"
      ],
      "metadata": {
        "id": "JSC5dhnLpPD7"
      },
      "execution_count": null,
      "outputs": []
    },
    {
      "cell_type": "code",
      "source": [
        "df.isnull().sum()\n"
      ],
      "metadata": {
        "id": "Yj_yvAqgpTnC"
      },
      "execution_count": null,
      "outputs": []
    },
    {
      "cell_type": "code",
      "source": [
        "# Replace common text markers with actual NaN\n",
        "df.replace(['?', 'NA', 'N/A', 'na', 'nil', 'None'], np.nan, inplace=True)\n"
      ],
      "metadata": {
        "id": "G3BKcDo1pZsP"
      },
      "execution_count": null,
      "outputs": []
    },
    {
      "cell_type": "code",
      "source": [
        "missing_count = df.isnull().sum()\n",
        "missing_pct = (df.isnull().mean() * 100).round(2)\n",
        "pd.concat([missing_count, missing_pct], axis=1, keys=['missing_count','missing_pct']).sort_values('missing_count', ascending=False)\n"
      ],
      "metadata": {
        "id": "v4hz8tZZpkdU"
      },
      "execution_count": null,
      "outputs": []
    },
    {
      "cell_type": "code",
      "source": [
        "# Replace 'date_col' with your actual column name, e.g. 'order_date'\n",
        "if 'date' in df.columns:\n",
        "    df['date'] = pd.to_datetime(df['date'], errors='coerce')\n",
        "    print(\"Converted 'date' column to datetime. Nulls after conversion:\", df['date'].isnull().sum())\n"
      ],
      "metadata": {
        "id": "kliYuJITpnvx"
      },
      "execution_count": null,
      "outputs": []
    },
    {
      "cell_type": "code",
      "source": [
        "num_cols = df.select_dtypes(include=['int64','float64']).columns.tolist()\n",
        "cat_cols = df.select_dtypes(include=['object','category']).columns.tolist()\n",
        "print(\"Numeric columns:\", num_cols)\n",
        "print(\"Categorical columns:\", cat_cols)\n"
      ],
      "metadata": {
        "id": "DT9Zpv4DpryB"
      },
      "execution_count": null,
      "outputs": []
    },
    {
      "cell_type": "code",
      "source": [
        "df[num_cols].hist(bins=20, figsize=(15, 10))\n",
        "plt.suptitle(\"Histograms for numeric columns\")\n",
        "plt.show()\n"
      ],
      "metadata": {
        "id": "M3zt54WQpvPg"
      },
      "execution_count": null,
      "outputs": []
    },
    {
      "cell_type": "code",
      "source": [
        "for col in num_cols:\n",
        "    plt.figure(figsize=(8,2))\n",
        "    sns.boxplot(x=df[col].dropna())\n",
        "    plt.title(col)\n",
        "    plt.show()\n"
      ],
      "metadata": {
        "id": "aoWKf30UpyoX"
      },
      "execution_count": null,
      "outputs": []
    },
    {
      "cell_type": "code",
      "source": [
        "# 1 — Sanity checks\n",
        "import pandas as pd, numpy as np\n",
        "import matplotlib.pyplot as plt, seaborn as sns\n",
        "from IPython.display import display\n",
        "\n",
        "print(\"Variables in this session:\", list(globals().keys())[:120])\n",
        "print(\"\\nDoes 'df' exist in memory? ->\", 'df' in globals())\n",
        "if 'df' in globals():\n",
        "    print(\"DataFrame shape:\", getattr(df, \"shape\", None))\n",
        "    display(df.head(5))\n",
        "    print(\"\\nColumn names and dtypes:\")\n",
        "    display(df.dtypes)\n",
        "else:\n",
        "    print(\"No DataFrame named 'df' found. Upload and load the CSV first (use files.upload() then pd.read_csv).\")\n"
      ],
      "metadata": {
        "id": "gZV3Katap4Kh"
      },
      "execution_count": null,
      "outputs": []
    },
    {
      "cell_type": "code",
      "source": [
        "# 2 — safe creation of num_cols and cat_cols\n",
        "num_cols = df.select_dtypes(include=['number']).columns.tolist()\n",
        "cat_cols = df.select_dtypes(include=['object','category']).columns.tolist()\n",
        "\n",
        "print(\"Numeric columns (count={}):\".format(len(num_cols)), num_cols)\n",
        "print(\"Categorical columns (count={}):\".format(len(cat_cols)), cat_cols)\n"
      ],
      "metadata": {
        "id": "IJobLTxuxaIF"
      },
      "execution_count": null,
      "outputs": []
    },
    {
      "cell_type": "code",
      "source": [
        "# 3 — try converting columns that look numeric but are objects\n",
        "possible_nums = [c for c in df.columns if df[c].dtype == 'object']\n",
        "converted = []\n",
        "for c in possible_nums:\n",
        "    # try coercion\n",
        "    tmp = pd.to_numeric(df[c].str.replace(',',''), errors='coerce') if df[c].dtype == 'object' else pd.to_numeric(df[c], errors='coerce')\n",
        "    non_null_ratio = tmp.notnull().mean()\n",
        "    if non_null_ratio > 0.6:   # heuristic: more than 60% convertible\n",
        "        df[c] = tmp\n",
        "        converted.append(c)\n",
        "\n",
        "if converted:\n",
        "    print(\"Converted these object columns to numeric (heuristic):\", converted)\n",
        "else:\n",
        "    print(\"No object columns converted automatically.\")\n",
        "# Recompute lists\n",
        "num_cols = df.select_dtypes(include=['number']).columns.tolist()\n",
        "cat_cols = df.select_dtypes(include=['object','category']).columns.tolist()\n",
        "print(\"Numeric columns now:\", num_cols)\n"
      ],
      "metadata": {
        "id": "9yeFj9CExi_0"
      },
      "execution_count": null,
      "outputs": []
    },
    {
      "cell_type": "code",
      "source": [
        "# 4 — Histograms (safe)\n",
        "if not num_cols:\n",
        "    print(\"No numeric columns to plot histograms for.\")\n",
        "else:\n",
        "    # limit plots if many numeric columns\n",
        "    max_plots = 12\n",
        "    cols_to_plot = num_cols[:max_plots]\n",
        "    print(f\"Plotting histograms for first {len(cols_to_plot)} numeric columns (of {len(num_cols)} total).\")\n",
        "    df[cols_to_plot].hist(bins=20, figsize=(15, 3 * ((len(cols_to_plot)+3)//4)))\n",
        "    plt.suptitle(\"Histograms for numeric columns\")\n",
        "    plt.tight_layout()\n",
        "    plt.show()\n"
      ],
      "metadata": {
        "id": "k6ms4bvkxqPE"
      },
      "execution_count": null,
      "outputs": []
    },
    {
      "cell_type": "code",
      "source": [
        "# 5 — Boxplots (one-by-one)\n",
        "if not num_cols:\n",
        "    print(\"No numeric columns to plot boxplots for.\")\n",
        "else:\n",
        "    for col in num_cols:\n",
        "        try:\n",
        "            plt.figure(figsize=(8,2))\n",
        "            sns.boxplot(x=df[col].dropna())\n",
        "            plt.title(f\"Boxplot: {col}\")\n",
        "            plt.show()\n",
        "        except Exception as e:\n",
        "            print(f\"Failed plotting boxplot for {col}: {e}\")\n"
      ],
      "metadata": {
        "id": "_5ajSQ0Cxwus"
      },
      "execution_count": null,
      "outputs": []
    },
    {
      "cell_type": "code",
      "source": [
        "# 6 — categorical counts\n",
        "if not cat_cols:\n",
        "    print(\"No categorical columns detected.\")\n",
        "else:\n",
        "    for col in cat_cols:\n",
        "        try:\n",
        "            print(\"----\", col, \"----\")\n",
        "            display(df[col].value_counts(dropna=False).head(10))\n",
        "            plt.figure(figsize=(8,4))\n",
        "            df[col].value_counts().nlargest(10).plot(kind='bar')\n",
        "            plt.title(f\"Top values: {col}\")\n",
        "            plt.xlabel(col)\n",
        "            plt.ylabel(\"count\")\n",
        "            plt.show()\n",
        "        except Exception as e:\n",
        "            print(f\"Failed for column {col}: {e}\")\n"
      ],
      "metadata": {
        "id": "0TBjNX4yx6eY"
      },
      "execution_count": null,
      "outputs": []
    },
    {
      "cell_type": "code",
      "source": [
        "# 7 — correlation heatmap\n",
        "if len(num_cols) <= 1:\n",
        "    print(\"Not enough numeric columns for correlation (need 2+). Numeric columns:\", num_cols)\n",
        "else:\n",
        "    corr = df[num_cols].corr()\n",
        "    plt.figure(figsize=(min(12, 1+len(num_cols)), min(10, 1+len(num_cols))))\n",
        "    sns.heatmap(corr, annot=True, fmt=\".2f\", center=0)\n",
        "    plt.title(\"Correlation between numeric columns\")\n",
        "    plt.show()\n"
      ],
      "metadata": {
        "id": "b5VlPwwdx_x_"
      },
      "execution_count": null,
      "outputs": []
    },
    {
      "cell_type": "code",
      "source": [
        "for col in num_cols:\n",
        "    plt.figure(figsize=(8,2))\n",
        "    sns.boxplot(x=df[col].dropna())\n",
        "    plt.title(col)\n",
        "    plt.show()\n"
      ],
      "metadata": {
        "id": "NrY2pcsdyFzS"
      },
      "execution_count": null,
      "outputs": []
    },
    {
      "cell_type": "code",
      "source": [
        "for col in cat_cols:\n",
        "    print(\"----\", col, \"----\")\n",
        "    display(df[col].value_counts().head(10))\n"
      ],
      "metadata": {
        "id": "6IWa79ubyOUC"
      },
      "execution_count": null,
      "outputs": []
    },
    {
      "cell_type": "code",
      "source": [
        "if len(num_cols) > 1:\n",
        "    corr = df[num_cols].corr()\n",
        "    sns.heatmap(corr, annot=True, fmt=\".2f\", center=0)\n",
        "    plt.title(\"Correlation between numeric columns\")\n",
        "    plt.show()\n",
        "else:\n",
        "    print(\"Not enough numeric columns for correlation.\")\n"
      ],
      "metadata": {
        "id": "4qZLdmJ0ySjJ"
      },
      "execution_count": null,
      "outputs": []
    },
    {
      "cell_type": "code",
      "source": [
        "# Numeric fill\n",
        "for c in num_cols:\n",
        "    if df[c].isnull().sum() > 0:\n",
        "        df[c] = df[c].fillna(df[c].median())\n",
        "\n",
        "# Categorical fill\n",
        "for c in cat_cols:\n",
        "    if df[c].isnull().sum() > 0:\n",
        "        if not df[c].mode().empty:\n",
        "            df[c] = df[c].fillna(df[c].mode().iloc[0])\n",
        "        else:\n",
        "            df[c] = df[c].fillna('Unknown')\n",
        "\n",
        "print(\"Missing values after simple filling:\")\n",
        "display(df.isnull().sum().sort_values(ascending=False).head(20))\n"
      ],
      "metadata": {
        "id": "JSnYTxRjyVeG"
      },
      "execution_count": null,
      "outputs": []
    },
    {
      "cell_type": "code",
      "source": [
        "def cap_iqr(series):\n",
        "    q1 = series.quantile(0.25)\n",
        "    q3 = series.quantile(0.75)\n",
        "    iqr = q3 - q1\n",
        "    lower = q1 - 1.5 * iqr\n",
        "    upper = q3 + 1.5 * iqr\n",
        "    return series.clip(lower, upper)\n",
        "\n",
        "for c in num_cols:\n",
        "    df[c] = cap_iqr(df[c])\n",
        "print(\"Applied IQR capping to numeric columns.\")\n"
      ],
      "metadata": {
        "id": "puGvfK7vyZk1"
      },
      "execution_count": null,
      "outputs": []
    },
    {
      "cell_type": "code",
      "source": [
        "if 'price' in df.columns and 'quantity' in df.columns:\n",
        "    df['total_value'] = df['price'] * df['quantity']\n",
        "    print(\"Created 'total_value' feature.\")\n"
      ],
      "metadata": {
        "id": "sxaPnlfVydUS"
      },
      "execution_count": null,
      "outputs": []
    },
    {
      "cell_type": "code",
      "source": [
        "cleaned_name = 'geldium_cleaned_by_abishek.csv'\n",
        "df.to_csv(cleaned_name, index=False)\n",
        "from google.colab import files\n",
        "files.download(cleaned_name)   # will trigger a browser download\n"
      ],
      "metadata": {
        "id": "FFyof3-AyhaM"
      },
      "execution_count": null,
      "outputs": []
    },
    {
      "cell_type": "code",
      "source": [
        "# Try to run a small check\n",
        "print(\"Final shape:\", df.shape)\n",
        "print(\"Any missing?:\", df.isnull().any().any())\n",
        "print(\"Sample rows:\")\n",
        "display(df.head())\n"
      ],
      "metadata": {
        "id": "TthDVLBRylpN"
      },
      "execution_count": null,
      "outputs": []
    },
    {
      "cell_type": "code",
      "source": [],
      "metadata": {
        "id": "Apiw4vQBzGUM"
      },
      "execution_count": null,
      "outputs": []
    }
  ]
}